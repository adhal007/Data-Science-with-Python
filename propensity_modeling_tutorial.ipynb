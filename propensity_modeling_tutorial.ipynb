{
 "cells": [
  {
   "cell_type": "code",
   "execution_count": 1,
   "metadata": {},
   "outputs": [],
   "source": [
    "# Package to create synthetic data for causal inference\n",
    "from dowhy import datasets\n",
    "# Data processing\n",
    "import pandas as pd\n",
    "import numpy as np\n",
    "# Causal inference\n",
    "from causalinference import CausalModel"
   ]
  },
  {
   "cell_type": "code",
   "execution_count": 2,
   "metadata": {},
   "outputs": [
    {
     "data": {
      "text/html": [
       "<div>\n",
       "<style scoped>\n",
       "    .dataframe tbody tr th:only-of-type {\n",
       "        vertical-align: middle;\n",
       "    }\n",
       "\n",
       "    .dataframe tbody tr th {\n",
       "        vertical-align: top;\n",
       "    }\n",
       "\n",
       "    .dataframe thead th {\n",
       "        text-align: right;\n",
       "    }\n",
       "</style>\n",
       "<table border=\"1\" class=\"dataframe\">\n",
       "  <thead>\n",
       "    <tr style=\"text-align: right;\">\n",
       "      <th></th>\n",
       "      <th>W0</th>\n",
       "      <th>W1</th>\n",
       "      <th>W2</th>\n",
       "      <th>W3</th>\n",
       "      <th>v0</th>\n",
       "      <th>y</th>\n",
       "    </tr>\n",
       "  </thead>\n",
       "  <tbody>\n",
       "    <tr>\n",
       "      <th>0</th>\n",
       "      <td>-0.485073</td>\n",
       "      <td>0.667292</td>\n",
       "      <td>2.043201</td>\n",
       "      <td>0.964752</td>\n",
       "      <td>True</td>\n",
       "      <td>17.107666</td>\n",
       "    </tr>\n",
       "    <tr>\n",
       "      <th>1</th>\n",
       "      <td>-0.720394</td>\n",
       "      <td>1.443989</td>\n",
       "      <td>0.000570</td>\n",
       "      <td>-0.268413</td>\n",
       "      <td>True</td>\n",
       "      <td>9.638488</td>\n",
       "    </tr>\n",
       "    <tr>\n",
       "      <th>2</th>\n",
       "      <td>-0.008957</td>\n",
       "      <td>-1.011852</td>\n",
       "      <td>-1.260930</td>\n",
       "      <td>-0.364971</td>\n",
       "      <td>False</td>\n",
       "      <td>-5.821974</td>\n",
       "    </tr>\n",
       "    <tr>\n",
       "      <th>3</th>\n",
       "      <td>-1.263751</td>\n",
       "      <td>1.215676</td>\n",
       "      <td>-0.444036</td>\n",
       "      <td>-1.214987</td>\n",
       "      <td>True</td>\n",
       "      <td>3.508742</td>\n",
       "    </tr>\n",
       "    <tr>\n",
       "      <th>4</th>\n",
       "      <td>1.214729</td>\n",
       "      <td>0.675652</td>\n",
       "      <td>0.531516</td>\n",
       "      <td>-1.227431</td>\n",
       "      <td>True</td>\n",
       "      <td>12.367930</td>\n",
       "    </tr>\n",
       "  </tbody>\n",
       "</table>\n",
       "</div>"
      ],
      "text/plain": [
       "         W0        W1        W2        W3     v0          y\n",
       "0 -0.485073  0.667292  2.043201  0.964752   True  17.107666\n",
       "1 -0.720394  1.443989  0.000570 -0.268413   True   9.638488\n",
       "2 -0.008957 -1.011852 -1.260930 -0.364971  False  -5.821974\n",
       "3 -1.263751  1.215676 -0.444036 -1.214987   True   3.508742\n",
       "4  1.214729  0.675652  0.531516 -1.227431   True  12.367930"
      ]
     },
     "execution_count": 2,
     "metadata": {},
     "output_type": "execute_result"
    }
   ],
   "source": [
    "# Set random seed\n",
    "np.random.seed(42)\n",
    "# Create a synthetic dataset\n",
    "data = datasets.linear_dataset(\n",
    "    beta=10,\n",
    "    num_common_causes=4,\n",
    "    num_samples=10000,\n",
    "    treatment_is_binary=True,\n",
    "    outcome_is_binary=False)\n",
    "# Create Dataframe\n",
    "df = data['df']\n",
    "# Take a look at the data\n",
    "df.head()"
   ]
  },
  {
   "cell_type": "code",
   "execution_count": 3,
   "metadata": {},
   "outputs": [
    {
     "data": {
      "text/html": [
       "<div>\n",
       "<style scoped>\n",
       "    .dataframe tbody tr th:only-of-type {\n",
       "        vertical-align: middle;\n",
       "    }\n",
       "\n",
       "    .dataframe tbody tr th {\n",
       "        vertical-align: top;\n",
       "    }\n",
       "\n",
       "    .dataframe thead th {\n",
       "        text-align: right;\n",
       "    }\n",
       "</style>\n",
       "<table border=\"1\" class=\"dataframe\">\n",
       "  <thead>\n",
       "    <tr style=\"text-align: right;\">\n",
       "      <th></th>\n",
       "      <th>W0</th>\n",
       "      <th>W1</th>\n",
       "      <th>W2</th>\n",
       "      <th>W3</th>\n",
       "      <th>treatment</th>\n",
       "      <th>outcome</th>\n",
       "    </tr>\n",
       "  </thead>\n",
       "  <tbody>\n",
       "    <tr>\n",
       "      <th>0</th>\n",
       "      <td>-0.485073</td>\n",
       "      <td>0.667292</td>\n",
       "      <td>2.043201</td>\n",
       "      <td>0.964752</td>\n",
       "      <td>1</td>\n",
       "      <td>17.107666</td>\n",
       "    </tr>\n",
       "    <tr>\n",
       "      <th>1</th>\n",
       "      <td>-0.720394</td>\n",
       "      <td>1.443989</td>\n",
       "      <td>0.000570</td>\n",
       "      <td>-0.268413</td>\n",
       "      <td>1</td>\n",
       "      <td>9.638488</td>\n",
       "    </tr>\n",
       "    <tr>\n",
       "      <th>2</th>\n",
       "      <td>-0.008957</td>\n",
       "      <td>-1.011852</td>\n",
       "      <td>-1.260930</td>\n",
       "      <td>-0.364971</td>\n",
       "      <td>0</td>\n",
       "      <td>-5.821974</td>\n",
       "    </tr>\n",
       "    <tr>\n",
       "      <th>3</th>\n",
       "      <td>-1.263751</td>\n",
       "      <td>1.215676</td>\n",
       "      <td>-0.444036</td>\n",
       "      <td>-1.214987</td>\n",
       "      <td>1</td>\n",
       "      <td>3.508742</td>\n",
       "    </tr>\n",
       "    <tr>\n",
       "      <th>4</th>\n",
       "      <td>1.214729</td>\n",
       "      <td>0.675652</td>\n",
       "      <td>0.531516</td>\n",
       "      <td>-1.227431</td>\n",
       "      <td>1</td>\n",
       "      <td>12.367930</td>\n",
       "    </tr>\n",
       "  </tbody>\n",
       "</table>\n",
       "</div>"
      ],
      "text/plain": [
       "         W0        W1        W2        W3  treatment    outcome\n",
       "0 -0.485073  0.667292  2.043201  0.964752          1  17.107666\n",
       "1 -0.720394  1.443989  0.000570 -0.268413          1   9.638488\n",
       "2 -0.008957 -1.011852 -1.260930 -0.364971          0  -5.821974\n",
       "3 -1.263751  1.215676 -0.444036 -1.214987          1   3.508742\n",
       "4  1.214729  0.675652  0.531516 -1.227431          1  12.367930"
      ]
     },
     "execution_count": 3,
     "metadata": {},
     "output_type": "execute_result"
    }
   ],
   "source": [
    "# Rename columns\n",
    "df = df.rename({'v0': 'treatment', 'y': 'outcome'}, axis=1)\n",
    "# Create the treatment variable, and change boolean values to 1 and 0\n",
    "df['treatment'] = df['treatment'].apply(lambda x: 1 if x == True else 0)\n",
    "# Take a look at the data\n",
    "df.head()"
   ]
  },
  {
   "cell_type": "code",
   "execution_count": 4,
   "metadata": {},
   "outputs": [
    {
     "name": "stdout",
     "output_type": "stream",
     "text": [
      "\n",
      "Summary Statistics\n",
      "\n",
      "                      Controls (N_c=2269)        Treated (N_t=7731)             \n",
      "       Variable         Mean         S.d.         Mean         S.d.     Raw-diff\n",
      "--------------------------------------------------------------------------------\n",
      "              Y       -2.191        4.217       13.940        4.842       16.132\n",
      "\n",
      "                      Controls (N_c=2269)        Treated (N_t=7731)             \n",
      "       Variable         Mean         S.d.         Mean         S.d.     Nor-diff\n",
      "--------------------------------------------------------------------------------\n",
      "             X0       -0.779        0.939       -0.088        0.971        0.724\n",
      "             X1       -0.181        0.685        1.207        0.829        1.825\n",
      "             X2        0.122        0.997        0.555        0.991        0.435\n",
      "             X3        0.127        0.969        0.221        1.005        0.095\n",
      "\n"
     ]
    }
   ],
   "source": [
    "# Run causal model\n",
    "causal = CausalModel(Y = df['outcome'].values, D = df['treatment'].values, X = df[['W0', 'W1', 'W2', 'W3']].values)\n",
    "# Print summary statistics\n",
    "print(causal.summary_stats)"
   ]
  },
  {
   "cell_type": "code",
   "execution_count": 5,
   "metadata": {},
   "outputs": [
    {
     "name": "stdout",
     "output_type": "stream",
     "text": [
      "\n",
      "Estimated Parameters of Propensity Score\n",
      "\n",
      "                    Coef.       S.e.          z      P>|z|      [95% Conf. int.]\n",
      "--------------------------------------------------------------------------------\n",
      "     Intercept     -0.052      0.053     -0.982      0.326     -0.156      0.052\n",
      "            X1      4.525      0.117     38.816      0.000      4.297      4.754\n",
      "            X0      2.171      0.067     32.537      0.000      2.040      2.302\n",
      "            X2      1.350      0.054     25.134      0.000      1.244      1.455\n",
      "            X3      0.286      0.044      6.500      0.000      0.200      0.373\n",
      "\n"
     ]
    }
   ],
   "source": [
    "# Automated propensity score estimation\n",
    "causal.est_propensity_s()\n",
    "# Propensity model results\n",
    "print(causal.propensity)\n"
   ]
  },
  {
   "cell_type": "code",
   "execution_count": 6,
   "metadata": {},
   "outputs": [
    {
     "data": {
      "text/plain": [
       "array([0.99295272, 0.99217314, 0.00156753, ..., 0.69143426, 0.99983862,\n",
       "       0.99943713])"
      ]
     },
     "execution_count": 6,
     "metadata": {},
     "output_type": "execute_result"
    }
   ],
   "source": [
    "# Propensity scores\n",
    "causal.propensity['fitted']\n"
   ]
  },
  {
   "cell_type": "code",
   "execution_count": 7,
   "metadata": {},
   "outputs": [
    {
     "data": {
      "image/png": "[encoded data removed]",
      "text/latex": [
       "$\\displaystyle 0.0844995651762355$"
      ],
      "text/plain": [
       "0.08449956517623547"
      ]
     },
     "execution_count": 7,
     "metadata": {},
     "output_type": "execute_result"
    }
   ],
   "source": [
    "# Trim using the optimal cutoff value\n",
    "causal.trim_s()\n",
    "# Check the optimal cutoff value\n",
    "causal.cutoff"
   ]
  },
  {
   "cell_type": "code",
   "execution_count": 8,
   "metadata": {},
   "outputs": [
    {
     "name": "stdout",
     "output_type": "stream",
     "text": [
      "\n",
      "Summary Statistics\n",
      "\n",
      "                      Controls (N_c=1189)        Treated (N_t=1463)             \n",
      "       Variable         Mean         S.d.         Mean         S.d.     Raw-diff\n",
      "--------------------------------------------------------------------------------\n",
      "              Y       -0.833        3.715       10.188        3.881       11.020\n",
      "\n",
      "                      Controls (N_c=1189)        Treated (N_t=1463)             \n",
      "       Variable         Mean         S.d.         Mean         S.d.     Nor-diff\n",
      "--------------------------------------------------------------------------------\n",
      "             X0       -0.623        0.914       -0.514        0.916        0.120\n",
      "             X1        0.121        0.516        0.349        0.527        0.436\n",
      "             X2        0.240        0.956        0.311        0.960        0.074\n",
      "             X3        0.133        0.962        0.157        0.990        0.024\n",
      "\n"
     ]
    }
   ],
   "source": [
    "# Print summary statistics\n",
    "print(causal.summary_stats)\n"
   ]
  },
  {
   "cell_type": "code",
   "execution_count": null,
   "metadata": {},
   "outputs": [],
   "source": []
  }
 ],
 "metadata": {
  "kernelspec": {
   "display_name": "propensity",
   "language": "python",
   "name": "python3"
  },
  "language_info": {
   "codemirror_mode": {
    "name": "ipython",
    "version": 3
   },
   "file_extension": ".py",
   "mimetype": "text/x-python",
   "name": "python",
   "nbconvert_exporter": "python",
   "pygments_lexer": "ipython3",
   "version": "3.10.13"
  }
 },
 "nbformat": 4,
 "nbformat_minor": 2
}
